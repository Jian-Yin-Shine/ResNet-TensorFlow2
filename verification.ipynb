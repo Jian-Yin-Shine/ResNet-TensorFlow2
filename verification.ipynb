{
 "cells": [
  {
   "cell_type": "code",
   "execution_count": 1,
   "metadata": {},
   "outputs": [],
   "source": [
    "from model import resnet\n",
    "import cv2\n",
    "import numpy as np"
   ]
  },
  {
   "cell_type": "code",
   "execution_count": 2,
   "metadata": {},
   "outputs": [
    {
     "name": "stdout",
     "output_type": "stream",
     "text": [
      "Model: \"res_net_type_i\"\n",
      "_________________________________________________________________\n",
      "Layer (type)                 Output Shape              Param #   \n",
      "=================================================================\n",
      "conv2d (Conv2D)              multiple                  9472      \n",
      "_________________________________________________________________\n",
      "batch_normalization (BatchNo multiple                  256       \n",
      "_________________________________________________________________\n",
      "max_pooling2d (MaxPooling2D) multiple                  0         \n",
      "_________________________________________________________________\n",
      "sequential (Sequential)      multiple                  148736    \n",
      "_________________________________________________________________\n",
      "sequential_1 (Sequential)    multiple                  527488    \n",
      "_________________________________________________________________\n",
      "sequential_3 (Sequential)    multiple                  2103552   \n",
      "_________________________________________________________________\n",
      "sequential_5 (Sequential)    multiple                  8401408   \n",
      "_________________________________________________________________\n",
      "global_average_pooling2d (Gl multiple                  0         \n",
      "_________________________________________________________________\n",
      "dense (Dense)                multiple                  5130      \n",
      "=================================================================\n",
      "Total params: 11,196,042\n",
      "Trainable params: 11,186,442\n",
      "Non-trainable params: 9,600\n",
      "_________________________________________________________________\n"
     ]
    }
   ],
   "source": [
    "net = resnet.resnet_18()\n",
    "net.build((None, 32, 32, 3))\n",
    "net.summary()"
   ]
  },
  {
   "cell_type": "code",
   "execution_count": 3,
   "metadata": {},
   "outputs": [],
   "source": [
    "net.load_weights('ResNet_18.h5')"
   ]
  },
  {
   "cell_type": "code",
   "execution_count": 4,
   "metadata": {},
   "outputs": [],
   "source": [
    "img = cv2.imread('yosemite_toad_s_000003_6.png')\n",
    "img = np.array(img, dtype='float32').reshape((1, 32, 32, 3))/255.0"
   ]
  },
  {
   "cell_type": "code",
   "execution_count": 5,
   "metadata": {},
   "outputs": [
    {
     "name": "stdout",
     "output_type": "stream",
     "text": [
      "tf.Tensor(\n",
      "[[6.8209708e-02 3.7694115e-03 6.7704327e-02 2.7976355e-01 1.9011431e-03\n",
      "  8.2973209e-05 5.7788247e-01 6.9015806e-07 6.1807671e-04 6.7696354e-05]], shape=(1, 10), dtype=float32)\n",
      "6\n"
     ]
    }
   ],
   "source": [
    "out = net(img)\n",
    "print(np.argmax(out[0]))"
   ]
  },
  {
   "cell_type": "code",
   "execution_count": null,
   "metadata": {},
   "outputs": [],
   "source": []
  }
 ],
 "metadata": {
  "kernelspec": {
   "display_name": "Python 3",
   "language": "python",
   "name": "python3"
  },
  "language_info": {
   "codemirror_mode": {
    "name": "ipython",
    "version": 3
   },
   "file_extension": ".py",
   "mimetype": "text/x-python",
   "name": "python",
   "nbconvert_exporter": "python",
   "pygments_lexer": "ipython3",
   "version": "3.7.6"
  }
 },
 "nbformat": 4,
 "nbformat_minor": 2
}
